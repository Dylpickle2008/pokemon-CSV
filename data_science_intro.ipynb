{
 "cells": [
  {
   "cell_type": "markdown",
   "id": "6bb67436-d082-41c5-ae51-8386ee71950f",
   "metadata": {},
   "source": [
    "# Intro to Data Science with Pokemon\n",
    "***"
   ]
  },
  {
   "cell_type": "markdown",
   "id": "5fd47390-56f6-4620-9c96-c013d605f714",
   "metadata": {},
   "source": [
    "## Arrays"
   ]
  },
  {
   "cell_type": "code",
   "execution_count": 7,
   "id": "d8fcb337-9047-496b-80b9-69e2fd492d0e",
   "metadata": {},
   "outputs": [],
   "source": [
    "food = [\"Ham\", \"Turkey\", \"Provalone\", \"Swiss\", \"Lettuce\", \"Mustard\", \"Bread\",\"Tomato\"] "
   ]
  },
  {
   "cell_type": "code",
   "execution_count": 8,
   "id": "2f202af0-db12-414f-819d-7a67c51bca35",
   "metadata": {},
   "outputs": [
    {
     "name": "stdout",
     "output_type": "stream",
     "text": [
      "['Ham', 'Turkey', 'Provalone', 'Swiss', 'Lettuce', 'Mustard', 'Bread', 'Tomato']\n"
     ]
    }
   ],
   "source": [
    "print(food) "
   ]
  },
  {
   "cell_type": "code",
   "execution_count": 9,
   "id": "fab4078d-8cb7-4c57-aded-e1b7a8759954",
   "metadata": {},
   "outputs": [
    {
     "name": "stdout",
     "output_type": "stream",
     "text": [
      "Provalone\n"
     ]
    }
   ],
   "source": [
    "print(food[2])"
   ]
  },
  {
   "cell_type": "code",
   "execution_count": 18,
   "id": "0eb590b2-925c-494c-9225-197b735576e8",
   "metadata": {},
   "outputs": [],
   "source": [
    "sliced_food_list = food[0:5]"
   ]
  },
  {
   "cell_type": "code",
   "execution_count": 19,
   "id": "817d2ae2-ec03-45cb-853f-4b6f0ed961c2",
   "metadata": {},
   "outputs": [
    {
     "name": "stdout",
     "output_type": "stream",
     "text": [
      "['Ham', 'Turkey', 'Provalone', 'Swiss', 'Lettuce']\n"
     ]
    }
   ],
   "source": [
    "print(sliced_food_list)"
   ]
  },
  {
   "cell_type": "markdown",
   "id": "81f221bd-9d34-4838-919e-7547498e8594",
   "metadata": {},
   "source": [
    "### Import Libraries\n",
    "***"
   ]
  },
  {
   "cell_type": "code",
   "execution_count": 20,
   "id": "9f55644e-7f85-4335-bb7c-a68e14696f2c",
   "metadata": {},
   "outputs": [],
   "source": [
    "import pandas as pd\n",
    "import numpy as py\n",
    "import seaborn as sb"
   ]
  },
  {
   "cell_type": "code",
   "execution_count": 21,
   "id": "8050405c-7d6d-4116-9496-8ed7118bdd1f",
   "metadata": {},
   "outputs": [
    {
     "name": "stdout",
     "output_type": "stream",
     "text": [
      "PANDAS Version2.2.3\n",
      "NUMPY Version2.1.1\n",
      "SEABORN Version0.13.2\n"
     ]
    }
   ],
   "source": [
    "print(\"PANDAS Version\" + pd.__version__)\n",
    "print(\"NUMPY Version\" + py.__version__)\n",
    "print(\"SEABORN Version\" + sb.__version__)"
   ]
  },
  {
   "cell_type": "markdown",
   "id": "4c5219d2-232b-4d80-872d-dd739ad477ec",
   "metadata": {},
   "source": [
    "## Loading Data\n",
    "***"
   ]
  },
  {
   "cell_type": "code",
   "execution_count": 22,
   "id": "a42b1fc2-2c07-42c7-9016-07b6f73e8f3e",
   "metadata": {},
   "outputs": [],
   "source": [
    "df = pd.read_csv('pokemon.csv')"
   ]
  },
  {
   "cell_type": "markdown",
   "id": "93063270-82cd-4dc7-afd8-c495110f6eae",
   "metadata": {},
   "source": [
    "## Display Full Data Frames\n",
    "***"
   ]
  },
  {
   "cell_type": "code",
   "execution_count": null,
   "id": "3a0e6e87-a1ca-4244-b605-f3336761da9a",
   "metadata": {},
   "outputs": [],
   "source": [
    "#pd.set_option('display.max_rows', None)"
   ]
  },
  {
   "cell_type": "code",
   "execution_count": 25,
   "id": "160e5f66-8392-4700-8105-3764076c5b56",
   "metadata": {},
   "outputs": [
    {
     "data": {
      "text/html": [
       "<div>\n",
       "<style scoped>\n",
       "    .dataframe tbody tr th:only-of-type {\n",
       "        vertical-align: middle;\n",
       "    }\n",
       "\n",
       "    .dataframe tbody tr th {\n",
       "        vertical-align: top;\n",
       "    }\n",
       "\n",
       "    .dataframe thead th {\n",
       "        text-align: right;\n",
       "    }\n",
       "</style>\n",
       "<table border=\"1\" class=\"dataframe\">\n",
       "  <thead>\n",
       "    <tr style=\"text-align: right;\">\n",
       "      <th></th>\n",
       "      <th>Per</th>\n",
       "      <th>Nat</th>\n",
       "      <th>Pokemon</th>\n",
       "      <th>HP</th>\n",
       "      <th>Atk</th>\n",
       "      <th>Def</th>\n",
       "      <th>SpA</th>\n",
       "      <th>SpD</th>\n",
       "      <th>Spe</th>\n",
       "      <th>Total</th>\n",
       "      <th>...</th>\n",
       "      <th>Catch</th>\n",
       "      <th>EXP</th>\n",
       "      <th>Evolve</th>\n",
       "      <th>Per.1</th>\n",
       "      <th>Nat.1</th>\n",
       "      <th>Joh</th>\n",
       "      <th>Hoe</th>\n",
       "      <th>Sin</th>\n",
       "      <th>Un</th>\n",
       "      <th>Pokemon.1</th>\n",
       "    </tr>\n",
       "  </thead>\n",
       "  <tbody>\n",
       "    <tr>\n",
       "      <th>0</th>\n",
       "      <td>1.0</td>\n",
       "      <td>1.0</td>\n",
       "      <td>Bulbasaur</td>\n",
       "      <td>45</td>\n",
       "      <td>49</td>\n",
       "      <td>49</td>\n",
       "      <td>65</td>\n",
       "      <td>65</td>\n",
       "      <td>45</td>\n",
       "      <td>318</td>\n",
       "      <td>...</td>\n",
       "      <td>45</td>\n",
       "      <td>1059860</td>\n",
       "      <td>NaN</td>\n",
       "      <td>1.0</td>\n",
       "      <td>1.0</td>\n",
       "      <td>226.0</td>\n",
       "      <td>NaN</td>\n",
       "      <td>NaN</td>\n",
       "      <td>NaN</td>\n",
       "      <td>Bulbasaur</td>\n",
       "    </tr>\n",
       "    <tr>\n",
       "      <th>1</th>\n",
       "      <td>2.0</td>\n",
       "      <td>2.0</td>\n",
       "      <td>Ivysaur</td>\n",
       "      <td>60</td>\n",
       "      <td>62</td>\n",
       "      <td>63</td>\n",
       "      <td>80</td>\n",
       "      <td>80</td>\n",
       "      <td>60</td>\n",
       "      <td>405</td>\n",
       "      <td>...</td>\n",
       "      <td>45</td>\n",
       "      <td>1059860</td>\n",
       "      <td>Lv. 16</td>\n",
       "      <td>2.0</td>\n",
       "      <td>2.0</td>\n",
       "      <td>227.0</td>\n",
       "      <td>NaN</td>\n",
       "      <td>NaN</td>\n",
       "      <td>NaN</td>\n",
       "      <td>Ivysaur</td>\n",
       "    </tr>\n",
       "    <tr>\n",
       "      <th>2</th>\n",
       "      <td>3.0</td>\n",
       "      <td>3.0</td>\n",
       "      <td>Venusaur</td>\n",
       "      <td>80</td>\n",
       "      <td>82</td>\n",
       "      <td>83</td>\n",
       "      <td>100</td>\n",
       "      <td>100</td>\n",
       "      <td>80</td>\n",
       "      <td>525</td>\n",
       "      <td>...</td>\n",
       "      <td>45</td>\n",
       "      <td>1059860</td>\n",
       "      <td>Lv. 32</td>\n",
       "      <td>3.0</td>\n",
       "      <td>3.0</td>\n",
       "      <td>228.0</td>\n",
       "      <td>NaN</td>\n",
       "      <td>NaN</td>\n",
       "      <td>NaN</td>\n",
       "      <td>Venusaur</td>\n",
       "    </tr>\n",
       "    <tr>\n",
       "      <th>3</th>\n",
       "      <td>4.0</td>\n",
       "      <td>4.0</td>\n",
       "      <td>Charmander</td>\n",
       "      <td>39</td>\n",
       "      <td>52</td>\n",
       "      <td>43</td>\n",
       "      <td>60</td>\n",
       "      <td>50</td>\n",
       "      <td>65</td>\n",
       "      <td>309</td>\n",
       "      <td>...</td>\n",
       "      <td>45</td>\n",
       "      <td>1059860</td>\n",
       "      <td>NaN</td>\n",
       "      <td>4.0</td>\n",
       "      <td>4.0</td>\n",
       "      <td>229.0</td>\n",
       "      <td>NaN</td>\n",
       "      <td>NaN</td>\n",
       "      <td>NaN</td>\n",
       "      <td>Charmander</td>\n",
       "    </tr>\n",
       "    <tr>\n",
       "      <th>4</th>\n",
       "      <td>5.0</td>\n",
       "      <td>5.0</td>\n",
       "      <td>Charmeleon</td>\n",
       "      <td>58</td>\n",
       "      <td>64</td>\n",
       "      <td>58</td>\n",
       "      <td>80</td>\n",
       "      <td>65</td>\n",
       "      <td>80</td>\n",
       "      <td>405</td>\n",
       "      <td>...</td>\n",
       "      <td>45</td>\n",
       "      <td>1059860</td>\n",
       "      <td>Lv. 16</td>\n",
       "      <td>5.0</td>\n",
       "      <td>5.0</td>\n",
       "      <td>230.0</td>\n",
       "      <td>NaN</td>\n",
       "      <td>NaN</td>\n",
       "      <td>NaN</td>\n",
       "      <td>Charmeleon</td>\n",
       "    </tr>\n",
       "    <tr>\n",
       "      <th>...</th>\n",
       "      <td>...</td>\n",
       "      <td>...</td>\n",
       "      <td>...</td>\n",
       "      <td>...</td>\n",
       "      <td>...</td>\n",
       "      <td>...</td>\n",
       "      <td>...</td>\n",
       "      <td>...</td>\n",
       "      <td>...</td>\n",
       "      <td>...</td>\n",
       "      <td>...</td>\n",
       "      <td>...</td>\n",
       "      <td>...</td>\n",
       "      <td>...</td>\n",
       "      <td>...</td>\n",
       "      <td>...</td>\n",
       "      <td>...</td>\n",
       "      <td>...</td>\n",
       "      <td>...</td>\n",
       "      <td>...</td>\n",
       "      <td>...</td>\n",
       "    </tr>\n",
       "    <tr>\n",
       "      <th>595</th>\n",
       "      <td>583.0</td>\n",
       "      <td>583.0</td>\n",
       "      <td>Vanillish</td>\n",
       "      <td>51</td>\n",
       "      <td>65</td>\n",
       "      <td>65</td>\n",
       "      <td>80</td>\n",
       "      <td>75</td>\n",
       "      <td>59</td>\n",
       "      <td>395</td>\n",
       "      <td>...</td>\n",
       "      <td>120</td>\n",
       "      <td>1000000</td>\n",
       "      <td>Lv. 35</td>\n",
       "      <td>583.0</td>\n",
       "      <td>583.0</td>\n",
       "      <td>NaN</td>\n",
       "      <td>NaN</td>\n",
       "      <td>NaN</td>\n",
       "      <td>89.0</td>\n",
       "      <td>Vanillish</td>\n",
       "    </tr>\n",
       "    <tr>\n",
       "      <th>596</th>\n",
       "      <td>584.0</td>\n",
       "      <td>584.0</td>\n",
       "      <td>Vanilluxe</td>\n",
       "      <td>71</td>\n",
       "      <td>95</td>\n",
       "      <td>85</td>\n",
       "      <td>110</td>\n",
       "      <td>95</td>\n",
       "      <td>79</td>\n",
       "      <td>535</td>\n",
       "      <td>...</td>\n",
       "      <td>45</td>\n",
       "      <td>1000000</td>\n",
       "      <td>Lv. 47</td>\n",
       "      <td>584.0</td>\n",
       "      <td>584.0</td>\n",
       "      <td>NaN</td>\n",
       "      <td>NaN</td>\n",
       "      <td>NaN</td>\n",
       "      <td>90.0</td>\n",
       "      <td>Vanilluxe</td>\n",
       "    </tr>\n",
       "    <tr>\n",
       "      <th>597</th>\n",
       "      <td>585.0</td>\n",
       "      <td>585.0</td>\n",
       "      <td>Deerling</td>\n",
       "      <td>60</td>\n",
       "      <td>60</td>\n",
       "      <td>50</td>\n",
       "      <td>40</td>\n",
       "      <td>50</td>\n",
       "      <td>75</td>\n",
       "      <td>335</td>\n",
       "      <td>...</td>\n",
       "      <td>190</td>\n",
       "      <td>1000000</td>\n",
       "      <td>NaN</td>\n",
       "      <td>585.0</td>\n",
       "      <td>585.0</td>\n",
       "      <td>NaN</td>\n",
       "      <td>NaN</td>\n",
       "      <td>NaN</td>\n",
       "      <td>91.0</td>\n",
       "      <td>Deerling</td>\n",
       "    </tr>\n",
       "    <tr>\n",
       "      <th>598</th>\n",
       "      <td>586.0</td>\n",
       "      <td>586.0</td>\n",
       "      <td>Sawsbuck</td>\n",
       "      <td>80</td>\n",
       "      <td>100</td>\n",
       "      <td>70</td>\n",
       "      <td>60</td>\n",
       "      <td>70</td>\n",
       "      <td>95</td>\n",
       "      <td>475</td>\n",
       "      <td>...</td>\n",
       "      <td>75</td>\n",
       "      <td>1000000</td>\n",
       "      <td>Lv. 34</td>\n",
       "      <td>586.0</td>\n",
       "      <td>586.0</td>\n",
       "      <td>NaN</td>\n",
       "      <td>NaN</td>\n",
       "      <td>NaN</td>\n",
       "      <td>92.0</td>\n",
       "      <td>Sawsbuck</td>\n",
       "    </tr>\n",
       "    <tr>\n",
       "      <th>599</th>\n",
       "      <td>587.0</td>\n",
       "      <td>587.0</td>\n",
       "      <td>Emolga</td>\n",
       "      <td>55</td>\n",
       "      <td>75</td>\n",
       "      <td>60</td>\n",
       "      <td>75</td>\n",
       "      <td>60</td>\n",
       "      <td>103</td>\n",
       "      <td>428</td>\n",
       "      <td>...</td>\n",
       "      <td>200</td>\n",
       "      <td>1000000</td>\n",
       "      <td>NaN</td>\n",
       "      <td>587.0</td>\n",
       "      <td>587.0</td>\n",
       "      <td>NaN</td>\n",
       "      <td>NaN</td>\n",
       "      <td>NaN</td>\n",
       "      <td>93.0</td>\n",
       "      <td>Emolga</td>\n",
       "    </tr>\n",
       "  </tbody>\n",
       "</table>\n",
       "<p>600 rows × 35 columns</p>\n",
       "</div>"
      ],
      "text/plain": [
       "       Per    Nat     Pokemon  HP  Atk  Def  SpA  SpD  Spe  Total  ... Catch  \\\n",
       "0      1.0    1.0   Bulbasaur  45   49   49   65   65   45    318  ...    45   \n",
       "1      2.0    2.0     Ivysaur  60   62   63   80   80   60    405  ...    45   \n",
       "2      3.0    3.0    Venusaur  80   82   83  100  100   80    525  ...    45   \n",
       "3      4.0    4.0  Charmander  39   52   43   60   50   65    309  ...    45   \n",
       "4      5.0    5.0  Charmeleon  58   64   58   80   65   80    405  ...    45   \n",
       "..     ...    ...         ...  ..  ...  ...  ...  ...  ...    ...  ...   ...   \n",
       "595  583.0  583.0   Vanillish  51   65   65   80   75   59    395  ...   120   \n",
       "596  584.0  584.0   Vanilluxe  71   95   85  110   95   79    535  ...    45   \n",
       "597  585.0  585.0    Deerling  60   60   50   40   50   75    335  ...   190   \n",
       "598  586.0  586.0    Sawsbuck  80  100   70   60   70   95    475  ...    75   \n",
       "599  587.0  587.0      Emolga  55   75   60   75   60  103    428  ...   200   \n",
       "\n",
       "         EXP  Evolve  Per.1  Nat.1    Joh Hoe  Sin    Un   Pokemon.1  \n",
       "0    1059860     NaN    1.0    1.0  226.0 NaN  NaN   NaN   Bulbasaur  \n",
       "1    1059860  Lv. 16    2.0    2.0  227.0 NaN  NaN   NaN     Ivysaur  \n",
       "2    1059860  Lv. 32    3.0    3.0  228.0 NaN  NaN   NaN    Venusaur  \n",
       "3    1059860     NaN    4.0    4.0  229.0 NaN  NaN   NaN  Charmander  \n",
       "4    1059860  Lv. 16    5.0    5.0  230.0 NaN  NaN   NaN  Charmeleon  \n",
       "..       ...     ...    ...    ...    ...  ..  ...   ...         ...  \n",
       "595  1000000  Lv. 35  583.0  583.0    NaN NaN  NaN  89.0   Vanillish  \n",
       "596  1000000  Lv. 47  584.0  584.0    NaN NaN  NaN  90.0   Vanilluxe  \n",
       "597  1000000     NaN  585.0  585.0    NaN NaN  NaN  91.0    Deerling  \n",
       "598  1000000  Lv. 34  586.0  586.0    NaN NaN  NaN  92.0    Sawsbuck  \n",
       "599  1000000     NaN  587.0  587.0    NaN NaN  NaN  93.0      Emolga  \n",
       "\n",
       "[600 rows x 35 columns]"
      ]
     },
     "execution_count": 25,
     "metadata": {},
     "output_type": "execute_result"
    }
   ],
   "source": [
    "df.head(600)"
   ]
  },
  {
   "cell_type": "markdown",
   "id": "6f3c8332-168b-489e-824f-c71df2818ead",
   "metadata": {},
   "source": [
    "### Accessing Columns\n",
    "***"
   ]
  },
  {
   "cell_type": "code",
   "execution_count": 26,
   "id": "f475c262-3321-4333-902c-7d9e1726103f",
   "metadata": {},
   "outputs": [
    {
     "data": {
      "text/plain": [
       "0       45\n",
       "1       60\n",
       "2       80\n",
       "3       39\n",
       "4       58\n",
       "      ... \n",
       "658    125\n",
       "659     91\n",
       "660    100\n",
       "661    100\n",
       "662     71\n",
       "Name: HP, Length: 663, dtype: int64"
      ]
     },
     "execution_count": 26,
     "metadata": {},
     "output_type": "execute_result"
    }
   ],
   "source": [
    "df.HP"
   ]
  },
  {
   "cell_type": "code",
   "execution_count": 27,
   "id": "70572522-1b37-4b46-8aef-ab1d1721839d",
   "metadata": {},
   "outputs": [
    {
     "data": {
      "text/plain": [
       "'Bulbasaur'"
      ]
     },
     "execution_count": 27,
     "metadata": {},
     "output_type": "execute_result"
    }
   ],
   "source": [
    "df.Pokemon[0]"
   ]
  },
  {
   "cell_type": "code",
   "execution_count": 29,
   "id": "4109aa69-64f2-4269-8e4b-544944740fe2",
   "metadata": {},
   "outputs": [
    {
     "data": {
      "text/plain": [
       "0     Bulbasaur\n",
       "1       Ivysaur\n",
       "2      Venusaur\n",
       "3    Charmander\n",
       "4    Charmeleon\n",
       "5     Charizard\n",
       "Name: Pokemon, dtype: object"
      ]
     },
     "execution_count": 29,
     "metadata": {},
     "output_type": "execute_result"
    }
   ],
   "source": [
    "df.Pokemon[0:6]"
   ]
  },
  {
   "cell_type": "code",
   "execution_count": null,
   "id": "c53a82ff-7e01-4f97-bb45-c0b07208662b",
   "metadata": {},
   "outputs": [],
   "source": []
  },
  {
   "cell_type": "code",
   "execution_count": null,
   "id": "2c091378-30c5-4483-afa1-53242f593fc2",
   "metadata": {},
   "outputs": [],
   "source": []
  }
 ],
 "metadata": {
  "kernelspec": {
   "display_name": "Python 3 (ipykernel)",
   "language": "python",
   "name": "python3"
  },
  "language_info": {
   "codemirror_mode": {
    "name": "ipython",
    "version": 3
   },
   "file_extension": ".py",
   "mimetype": "text/x-python",
   "name": "python",
   "nbconvert_exporter": "python",
   "pygments_lexer": "ipython3",
   "version": "3.12.1"
  }
 },
 "nbformat": 4,
 "nbformat_minor": 5
}
